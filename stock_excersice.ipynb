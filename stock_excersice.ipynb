{
  "nbformat": 4,
  "nbformat_minor": 0,
  "metadata": {
    "colab": {
      "name": "testing_excersice.ipynb",
      "provenance": [],
      "collapsed_sections": [],
      "include_colab_link": true
    },
    "kernelspec": {
      "name": "python3",
      "display_name": "Python 3"
    }
  },
  "cells": [
    {
      "cell_type": "markdown",
      "metadata": {
        "id": "view-in-github",
        "colab_type": "text"
      },
      "source": [
        "<a href=\"https://colab.research.google.com/github/natalia-cortese/machine_learning/blob/master/stock_excersice.ipynb\" target=\"_parent\"><img src=\"https://colab.research.google.com/assets/colab-badge.svg\" alt=\"Open In Colab\"/></a>"
      ]
    },
    {
      "cell_type": "code",
      "metadata": {
        "id": "WuWvC4DMyh-Q"
      },
      "source": [
        "#Description: This program is a testing of what this can do"
      ],
      "execution_count": null,
      "outputs": []
    },
    {
      "cell_type": "code",
      "metadata": {
        "id": "Vw9KM2ftys__"
      },
      "source": [
        "# Import libraries\n",
        "import pandas as pd\n",
        "import numpy as np\n",
        "from datetime import datetime\n",
        "from matplotlib import pyplot as plt\n",
        "\n",
        "plt.style.use(\"fivethirtyeight\")"
      ],
      "execution_count": 1,
      "outputs": []
    },
    {
      "cell_type": "code",
      "metadata": {
        "id": "QeTEfkqXzIeU",
        "colab": {
          "base_uri": "https://localhost:8080/",
          "height": 418
        },
        "cellView": "code",
        "outputId": "da2e21e4-2fcc-4d03-94ac-e47c9ea10a47"
      },
      "source": [
        "#@title Default title text\n",
        "# we only need to run this if we are going to upload a file\n",
        "# the next one just read from the sample data\n",
        "from google.colab import files\n",
        "uploaded = files.upload()"
      ],
      "execution_count": 10,
      "outputs": [
        {
          "output_type": "display_data",
          "data": {
            "text/html": [
              "\n",
              "     <input type=\"file\" id=\"files-04c395c0-90ff-41e2-886b-c4a82dc185d5\" name=\"files[]\" multiple disabled\n",
              "        style=\"border:none\" />\n",
              "     <output id=\"result-04c395c0-90ff-41e2-886b-c4a82dc185d5\">\n",
              "      Upload widget is only available when the cell has been executed in the\n",
              "      current browser session. Please rerun this cell to enable.\n",
              "      </output>\n",
              "      <script src=\"/nbextensions/google.colab/files.js\"></script> "
            ],
            "text/plain": [
              "<IPython.core.display.HTML object>"
            ]
          },
          "metadata": {}
        },
        {
          "output_type": "error",
          "ename": "MessageError",
          "evalue": "ignored",
          "traceback": [
            "\u001b[0;31m---------------------------------------------------------------------------\u001b[0m",
            "\u001b[0;31mMessageError\u001b[0m                              Traceback (most recent call last)",
            "\u001b[0;32m<ipython-input-10-6240a044b138>\u001b[0m in \u001b[0;36m<module>\u001b[0;34m()\u001b[0m\n\u001b[1;32m      1\u001b[0m \u001b[0;31m#@title Default title text\u001b[0m\u001b[0;34m\u001b[0m\u001b[0;34m\u001b[0m\u001b[0;34m\u001b[0m\u001b[0m\n\u001b[1;32m      2\u001b[0m \u001b[0;32mfrom\u001b[0m \u001b[0mgoogle\u001b[0m\u001b[0;34m.\u001b[0m\u001b[0mcolab\u001b[0m \u001b[0;32mimport\u001b[0m \u001b[0mfiles\u001b[0m\u001b[0;34m\u001b[0m\u001b[0;34m\u001b[0m\u001b[0m\n\u001b[0;32m----> 3\u001b[0;31m \u001b[0muploaded\u001b[0m \u001b[0;34m=\u001b[0m \u001b[0mfiles\u001b[0m\u001b[0;34m.\u001b[0m\u001b[0mupload\u001b[0m\u001b[0;34m(\u001b[0m\u001b[0;34m)\u001b[0m\u001b[0;34m\u001b[0m\u001b[0;34m\u001b[0m\u001b[0m\n\u001b[0m",
            "\u001b[0;32m/usr/local/lib/python3.7/dist-packages/google/colab/files.py\u001b[0m in \u001b[0;36mupload\u001b[0;34m()\u001b[0m\n\u001b[1;32m     62\u001b[0m   result = _output.eval_js(\n\u001b[1;32m     63\u001b[0m       'google.colab._files._uploadFiles(\"{input_id}\", \"{output_id}\")'.format(\n\u001b[0;32m---> 64\u001b[0;31m           input_id=input_id, output_id=output_id))\n\u001b[0m\u001b[1;32m     65\u001b[0m   \u001b[0mfiles\u001b[0m \u001b[0;34m=\u001b[0m \u001b[0m_collections\u001b[0m\u001b[0;34m.\u001b[0m\u001b[0mdefaultdict\u001b[0m\u001b[0;34m(\u001b[0m\u001b[0m_six\u001b[0m\u001b[0;34m.\u001b[0m\u001b[0mbinary_type\u001b[0m\u001b[0;34m)\u001b[0m\u001b[0;34m\u001b[0m\u001b[0;34m\u001b[0m\u001b[0m\n\u001b[1;32m     66\u001b[0m   \u001b[0;31m# Mapping from original filename to filename as saved locally.\u001b[0m\u001b[0;34m\u001b[0m\u001b[0;34m\u001b[0m\u001b[0;34m\u001b[0m\u001b[0m\n",
            "\u001b[0;32m/usr/local/lib/python3.7/dist-packages/google/colab/output/_js.py\u001b[0m in \u001b[0;36meval_js\u001b[0;34m(script, ignore_result, timeout_sec)\u001b[0m\n\u001b[1;32m     38\u001b[0m   \u001b[0;32mif\u001b[0m \u001b[0mignore_result\u001b[0m\u001b[0;34m:\u001b[0m\u001b[0;34m\u001b[0m\u001b[0;34m\u001b[0m\u001b[0m\n\u001b[1;32m     39\u001b[0m     \u001b[0;32mreturn\u001b[0m\u001b[0;34m\u001b[0m\u001b[0;34m\u001b[0m\u001b[0m\n\u001b[0;32m---> 40\u001b[0;31m   \u001b[0;32mreturn\u001b[0m \u001b[0m_message\u001b[0m\u001b[0;34m.\u001b[0m\u001b[0mread_reply_from_input\u001b[0m\u001b[0;34m(\u001b[0m\u001b[0mrequest_id\u001b[0m\u001b[0;34m,\u001b[0m \u001b[0mtimeout_sec\u001b[0m\u001b[0;34m)\u001b[0m\u001b[0;34m\u001b[0m\u001b[0;34m\u001b[0m\u001b[0m\n\u001b[0m\u001b[1;32m     41\u001b[0m \u001b[0;34m\u001b[0m\u001b[0m\n\u001b[1;32m     42\u001b[0m \u001b[0;34m\u001b[0m\u001b[0m\n",
            "\u001b[0;32m/usr/local/lib/python3.7/dist-packages/google/colab/_message.py\u001b[0m in \u001b[0;36mread_reply_from_input\u001b[0;34m(message_id, timeout_sec)\u001b[0m\n\u001b[1;32m    104\u001b[0m         reply.get('colab_msg_id') == message_id):\n\u001b[1;32m    105\u001b[0m       \u001b[0;32mif\u001b[0m \u001b[0;34m'error'\u001b[0m \u001b[0;32min\u001b[0m \u001b[0mreply\u001b[0m\u001b[0;34m:\u001b[0m\u001b[0;34m\u001b[0m\u001b[0;34m\u001b[0m\u001b[0m\n\u001b[0;32m--> 106\u001b[0;31m         \u001b[0;32mraise\u001b[0m \u001b[0mMessageError\u001b[0m\u001b[0;34m(\u001b[0m\u001b[0mreply\u001b[0m\u001b[0;34m[\u001b[0m\u001b[0;34m'error'\u001b[0m\u001b[0;34m]\u001b[0m\u001b[0;34m)\u001b[0m\u001b[0;34m\u001b[0m\u001b[0;34m\u001b[0m\u001b[0m\n\u001b[0m\u001b[1;32m    107\u001b[0m       \u001b[0;32mreturn\u001b[0m \u001b[0mreply\u001b[0m\u001b[0;34m.\u001b[0m\u001b[0mget\u001b[0m\u001b[0;34m(\u001b[0m\u001b[0;34m'data'\u001b[0m\u001b[0;34m,\u001b[0m \u001b[0;32mNone\u001b[0m\u001b[0;34m)\u001b[0m\u001b[0;34m\u001b[0m\u001b[0;34m\u001b[0m\u001b[0m\n\u001b[1;32m    108\u001b[0m \u001b[0;34m\u001b[0m\u001b[0m\n",
            "\u001b[0;31mMessageError\u001b[0m: TypeError: can't access property \"_uploadFiles\", google.colab._files is undefined"
          ]
        }
      ]
    },
    {
      "cell_type": "code",
      "metadata": {
        "id": "X7GF3c0uzfZ0",
        "colab": {
          "base_uri": "https://localhost:8080/",
          "height": 424
        },
        "outputId": "53c62068-72ca-40de-847b-51d1ce1f8ba4"
      },
      "source": [
        "# Store the data\n",
        "AAPL = pd.read_csv('/content/sample_data/aapl.csv')\n",
        "# Show the data\n",
        "AAPL"
      ],
      "execution_count": 19,
      "outputs": [
        {
          "output_type": "execute_result",
          "data": {
            "text/html": [
              "<div>\n",
              "<style scoped>\n",
              "    .dataframe tbody tr th:only-of-type {\n",
              "        vertical-align: middle;\n",
              "    }\n",
              "\n",
              "    .dataframe tbody tr th {\n",
              "        vertical-align: top;\n",
              "    }\n",
              "\n",
              "    .dataframe thead th {\n",
              "        text-align: right;\n",
              "    }\n",
              "</style>\n",
              "<table border=\"1\" class=\"dataframe\">\n",
              "  <thead>\n",
              "    <tr style=\"text-align: right;\">\n",
              "      <th></th>\n",
              "      <th>Date</th>\n",
              "      <th>Open</th>\n",
              "      <th>High</th>\n",
              "      <th>Low</th>\n",
              "      <th>Close</th>\n",
              "      <th>Volume</th>\n",
              "      <th>Adj Close</th>\n",
              "    </tr>\n",
              "  </thead>\n",
              "  <tbody>\n",
              "    <tr>\n",
              "      <th>0</th>\n",
              "      <td>2008-10-14</td>\n",
              "      <td>116.26</td>\n",
              "      <td>116.40</td>\n",
              "      <td>103.14</td>\n",
              "      <td>104.08</td>\n",
              "      <td>70749800</td>\n",
              "      <td>104.08</td>\n",
              "    </tr>\n",
              "    <tr>\n",
              "      <th>1</th>\n",
              "      <td>2008-10-13</td>\n",
              "      <td>104.55</td>\n",
              "      <td>110.53</td>\n",
              "      <td>101.02</td>\n",
              "      <td>110.26</td>\n",
              "      <td>54967000</td>\n",
              "      <td>110.26</td>\n",
              "    </tr>\n",
              "    <tr>\n",
              "      <th>2</th>\n",
              "      <td>2008-10-10</td>\n",
              "      <td>85.70</td>\n",
              "      <td>100.00</td>\n",
              "      <td>85.00</td>\n",
              "      <td>96.80</td>\n",
              "      <td>79260700</td>\n",
              "      <td>96.80</td>\n",
              "    </tr>\n",
              "    <tr>\n",
              "      <th>3</th>\n",
              "      <td>2008-10-09</td>\n",
              "      <td>93.35</td>\n",
              "      <td>95.80</td>\n",
              "      <td>86.60</td>\n",
              "      <td>88.74</td>\n",
              "      <td>57763700</td>\n",
              "      <td>88.74</td>\n",
              "    </tr>\n",
              "    <tr>\n",
              "      <th>4</th>\n",
              "      <td>2008-10-08</td>\n",
              "      <td>85.91</td>\n",
              "      <td>96.33</td>\n",
              "      <td>85.68</td>\n",
              "      <td>89.79</td>\n",
              "      <td>78847900</td>\n",
              "      <td>89.79</td>\n",
              "    </tr>\n",
              "    <tr>\n",
              "      <th>...</th>\n",
              "      <td>...</td>\n",
              "      <td>...</td>\n",
              "      <td>...</td>\n",
              "      <td>...</td>\n",
              "      <td>...</td>\n",
              "      <td>...</td>\n",
              "      <td>...</td>\n",
              "    </tr>\n",
              "    <tr>\n",
              "      <th>6076</th>\n",
              "      <td>1984-09-13</td>\n",
              "      <td>27.50</td>\n",
              "      <td>27.62</td>\n",
              "      <td>27.50</td>\n",
              "      <td>27.50</td>\n",
              "      <td>7429600</td>\n",
              "      <td>3.14</td>\n",
              "    </tr>\n",
              "    <tr>\n",
              "      <th>6077</th>\n",
              "      <td>1984-09-12</td>\n",
              "      <td>26.87</td>\n",
              "      <td>27.00</td>\n",
              "      <td>26.12</td>\n",
              "      <td>26.12</td>\n",
              "      <td>4773600</td>\n",
              "      <td>2.98</td>\n",
              "    </tr>\n",
              "    <tr>\n",
              "      <th>6078</th>\n",
              "      <td>1984-09-11</td>\n",
              "      <td>26.62</td>\n",
              "      <td>27.37</td>\n",
              "      <td>26.62</td>\n",
              "      <td>26.87</td>\n",
              "      <td>5444000</td>\n",
              "      <td>3.07</td>\n",
              "    </tr>\n",
              "    <tr>\n",
              "      <th>6079</th>\n",
              "      <td>1984-09-10</td>\n",
              "      <td>26.50</td>\n",
              "      <td>26.62</td>\n",
              "      <td>25.87</td>\n",
              "      <td>26.37</td>\n",
              "      <td>2346400</td>\n",
              "      <td>3.01</td>\n",
              "    </tr>\n",
              "    <tr>\n",
              "      <th>6080</th>\n",
              "      <td>1984-09-07</td>\n",
              "      <td>26.50</td>\n",
              "      <td>26.87</td>\n",
              "      <td>26.25</td>\n",
              "      <td>26.50</td>\n",
              "      <td>2981600</td>\n",
              "      <td>3.02</td>\n",
              "    </tr>\n",
              "  </tbody>\n",
              "</table>\n",
              "<p>6081 rows × 7 columns</p>\n",
              "</div>"
            ],
            "text/plain": [
              "            Date    Open    High     Low   Close    Volume  Adj Close\n",
              "0     2008-10-14  116.26  116.40  103.14  104.08  70749800     104.08\n",
              "1     2008-10-13  104.55  110.53  101.02  110.26  54967000     110.26\n",
              "2     2008-10-10   85.70  100.00   85.00   96.80  79260700      96.80\n",
              "3     2008-10-09   93.35   95.80   86.60   88.74  57763700      88.74\n",
              "4     2008-10-08   85.91   96.33   85.68   89.79  78847900      89.79\n",
              "...          ...     ...     ...     ...     ...       ...        ...\n",
              "6076  1984-09-13   27.50   27.62   27.50   27.50   7429600       3.14\n",
              "6077  1984-09-12   26.87   27.00   26.12   26.12   4773600       2.98\n",
              "6078  1984-09-11   26.62   27.37   26.62   26.87   5444000       3.07\n",
              "6079  1984-09-10   26.50   26.62   25.87   26.37   2346400       3.01\n",
              "6080  1984-09-07   26.50   26.87   26.25   26.50   2981600       3.02\n",
              "\n",
              "[6081 rows x 7 columns]"
            ]
          },
          "metadata": {},
          "execution_count": 19
        }
      ]
    },
    {
      "cell_type": "code",
      "metadata": {
        "id": "NbUnu5LN3KwA",
        "colab": {
          "base_uri": "https://localhost:8080/",
          "height": 323
        },
        "outputId": "8910ceed-3fa6-4293-ead7-2b6726824370"
      },
      "source": [
        "# Visualize the data\n",
        "plt.figure(figsize=(10.5, 4.5))\n",
        "plt.plot(AAPL['Adj Close'], label='AAPL')\n",
        "plt.title('Apple Adj Close Price')\n",
        "plt.xlabel('2014 to 2018')\n",
        "plt.ylabel('Adj Close Price($)')\n",
        "plt.show()"
      ],
      "execution_count": 20,
      "outputs": [
        {
          "output_type": "display_data",
          "data": {
            "image/png": "[encoded data removed]",
            "text/plain": [
              "<Figure size 756x324 with 1 Axes>"
            ]
          },
          "metadata": {
            "needs_background": "light"
          }
        }
      ]
    },
    {
      "cell_type": "code",
      "metadata": {
        "id": "Awax2RGR4ubp",
        "colab": {
          "base_uri": "https://localhost:8080/",
          "height": 424
        },
        "outputId": "d9eb01f4-bc69-4f05-f0f2-2edbaf427932"
      },
      "source": [
        "# Create the simple moving average with a 30 Day window\n",
        "SMA30 = pd.DataFrame()\n",
        "SMA30['Adj Close Price'] = AAPL['Adj Close'].rolling(window=30).mean()\n",
        "SMA30"
      ],
      "execution_count": 21,
      "outputs": [
        {
          "output_type": "execute_result",
          "data": {
            "text/html": [
              "<div>\n",
              "<style scoped>\n",
              "    .dataframe tbody tr th:only-of-type {\n",
              "        vertical-align: middle;\n",
              "    }\n",
              "\n",
              "    .dataframe tbody tr th {\n",
              "        vertical-align: top;\n",
              "    }\n",
              "\n",
              "    .dataframe thead th {\n",
              "        text-align: right;\n",
              "    }\n",
              "</style>\n",
              "<table border=\"1\" class=\"dataframe\">\n",
              "  <thead>\n",
              "    <tr style=\"text-align: right;\">\n",
              "      <th></th>\n",
              "      <th>Adj Close Price</th>\n",
              "    </tr>\n",
              "  </thead>\n",
              "  <tbody>\n",
              "    <tr>\n",
              "      <th>0</th>\n",
              "      <td>NaN</td>\n",
              "    </tr>\n",
              "    <tr>\n",
              "      <th>1</th>\n",
              "      <td>NaN</td>\n",
              "    </tr>\n",
              "    <tr>\n",
              "      <th>2</th>\n",
              "      <td>NaN</td>\n",
              "    </tr>\n",
              "    <tr>\n",
              "      <th>3</th>\n",
              "      <td>NaN</td>\n",
              "    </tr>\n",
              "    <tr>\n",
              "      <th>4</th>\n",
              "      <td>NaN</td>\n",
              "    </tr>\n",
              "    <tr>\n",
              "      <th>...</th>\n",
              "      <td>...</td>\n",
              "    </tr>\n",
              "    <tr>\n",
              "      <th>6076</th>\n",
              "      <td>2.921667</td>\n",
              "    </tr>\n",
              "    <tr>\n",
              "      <th>6077</th>\n",
              "      <td>2.921000</td>\n",
              "    </tr>\n",
              "    <tr>\n",
              "      <th>6078</th>\n",
              "      <td>2.924333</td>\n",
              "    </tr>\n",
              "    <tr>\n",
              "      <th>6079</th>\n",
              "      <td>2.928333</td>\n",
              "    </tr>\n",
              "    <tr>\n",
              "      <th>6080</th>\n",
              "      <td>2.931667</td>\n",
              "    </tr>\n",
              "  </tbody>\n",
              "</table>\n",
              "<p>6081 rows × 1 columns</p>\n",
              "</div>"
            ],
            "text/plain": [
              "      Adj Close Price\n",
              "0                 NaN\n",
              "1                 NaN\n",
              "2                 NaN\n",
              "3                 NaN\n",
              "4                 NaN\n",
              "...               ...\n",
              "6076         2.921667\n",
              "6077         2.921000\n",
              "6078         2.924333\n",
              "6079         2.928333\n",
              "6080         2.931667\n",
              "\n",
              "[6081 rows x 1 columns]"
            ]
          },
          "metadata": {},
          "execution_count": 21
        }
      ]
    },
    {
      "cell_type": "code",
      "metadata": {
        "id": "dEflzrrB5Mz8",
        "colab": {
          "base_uri": "https://localhost:8080/",
          "height": 424
        },
        "outputId": "b93e7d57-5380-4283-8366-2a4b6a26786e"
      },
      "source": [
        "# Create a simple moving 100 day avg\n",
        "SMA100 = pd.DataFrame()\n",
        "SMA100['Adj Close Price'] = AAPL['Adj Close'].rolling(window=100).mean()\n",
        "SMA100"
      ],
      "execution_count": 23,
      "outputs": [
        {
          "output_type": "execute_result",
          "data": {
            "text/html": [
              "<div>\n",
              "<style scoped>\n",
              "    .dataframe tbody tr th:only-of-type {\n",
              "        vertical-align: middle;\n",
              "    }\n",
              "\n",
              "    .dataframe tbody tr th {\n",
              "        vertical-align: top;\n",
              "    }\n",
              "\n",
              "    .dataframe thead th {\n",
              "        text-align: right;\n",
              "    }\n",
              "</style>\n",
              "<table border=\"1\" class=\"dataframe\">\n",
              "  <thead>\n",
              "    <tr style=\"text-align: right;\">\n",
              "      <th></th>\n",
              "      <th>Adj Close Price</th>\n",
              "    </tr>\n",
              "  </thead>\n",
              "  <tbody>\n",
              "    <tr>\n",
              "      <th>0</th>\n",
              "      <td>NaN</td>\n",
              "    </tr>\n",
              "    <tr>\n",
              "      <th>1</th>\n",
              "      <td>NaN</td>\n",
              "    </tr>\n",
              "    <tr>\n",
              "      <th>2</th>\n",
              "      <td>NaN</td>\n",
              "    </tr>\n",
              "    <tr>\n",
              "      <th>3</th>\n",
              "      <td>NaN</td>\n",
              "    </tr>\n",
              "    <tr>\n",
              "      <th>4</th>\n",
              "      <td>NaN</td>\n",
              "    </tr>\n",
              "    <tr>\n",
              "      <th>...</th>\n",
              "      <td>...</td>\n",
              "    </tr>\n",
              "    <tr>\n",
              "      <th>6076</th>\n",
              "      <td>3.0145</td>\n",
              "    </tr>\n",
              "    <tr>\n",
              "      <th>6077</th>\n",
              "      <td>3.0109</td>\n",
              "    </tr>\n",
              "    <tr>\n",
              "      <th>6078</th>\n",
              "      <td>3.0089</td>\n",
              "    </tr>\n",
              "    <tr>\n",
              "      <th>6079</th>\n",
              "      <td>3.0059</td>\n",
              "    </tr>\n",
              "    <tr>\n",
              "      <th>6080</th>\n",
              "      <td>3.0020</td>\n",
              "    </tr>\n",
              "  </tbody>\n",
              "</table>\n",
              "<p>6081 rows × 1 columns</p>\n",
              "</div>"
            ],
            "text/plain": [
              "      Adj Close Price\n",
              "0                 NaN\n",
              "1                 NaN\n",
              "2                 NaN\n",
              "3                 NaN\n",
              "4                 NaN\n",
              "...               ...\n",
              "6076           3.0145\n",
              "6077           3.0109\n",
              "6078           3.0089\n",
              "6079           3.0059\n",
              "6080           3.0020\n",
              "\n",
              "[6081 rows x 1 columns]"
            ]
          },
          "metadata": {},
          "execution_count": 23
        }
      ]
    },
    {
      "cell_type": "code",
      "metadata": {
        "id": "AI1xGJOd5jGI",
        "colab": {
          "base_uri": "https://localhost:8080/",
          "height": 323
        },
        "outputId": "a8c53285-9487-41b4-ae87-818bca51b348"
      },
      "source": [
        "# Visualize the data\n",
        "plt.figure(figsize=(10.5, 4.5))\n",
        "plt.plot(AAPL['Adj Close'], label='AAPL')\n",
        "plt.plot(SMA30['Adj Close Price'], label='SMA30')\n",
        "plt.plot(SMA100['Adj Close Price'], label='SMA100')\n",
        "plt.title('Apple Adj Close Price')\n",
        "plt.xlabel('2014 to 2018')\n",
        "plt.ylabel('Adj Close Price($)')\n",
        "plt.legend(loc='upper left')\n",
        "plt.show()"
      ],
      "execution_count": 24,
      "outputs": [
        {
          "output_type": "display_data",
          "data": {
            "image/png": "[encoded data removed]",
            "text/plain": [
              "<Figure size 756x324 with 1 Axes>"
            ]
          },
          "metadata": {
            "needs_background": "light"
          }
        }
      ]
    },
    {
      "cell_type": "code",
      "metadata": {
        "id": "q0zTws146hF7",
        "colab": {
          "base_uri": "https://localhost:8080/",
          "height": 424
        },
        "outputId": "60bafecb-1228-4ecb-bd36-7b35c58b9871"
      },
      "source": [
        "# Create a simple dataframe to store all the data\n",
        "data = pd.DataFrame()\n",
        "data['AAPL'] = AAPL['Adj Close']\n",
        "data['SMA30'] = SMA30['Adj Close Price']\n",
        "data['SMA100'] = SMA100['Adj Close Price']\n",
        "data"
      ],
      "execution_count": 25,
      "outputs": [
        {
          "output_type": "execute_result",
          "data": {
            "text/html": [
              "<div>\n",
              "<style scoped>\n",
              "    .dataframe tbody tr th:only-of-type {\n",
              "        vertical-align: middle;\n",
              "    }\n",
              "\n",
              "    .dataframe tbody tr th {\n",
              "        vertical-align: top;\n",
              "    }\n",
              "\n",
              "    .dataframe thead th {\n",
              "        text-align: right;\n",
              "    }\n",
              "</style>\n",
              "<table border=\"1\" class=\"dataframe\">\n",
              "  <thead>\n",
              "    <tr style=\"text-align: right;\">\n",
              "      <th></th>\n",
              "      <th>AAPL</th>\n",
              "      <th>SMA30</th>\n",
              "      <th>SMA100</th>\n",
              "    </tr>\n",
              "  </thead>\n",
              "  <tbody>\n",
              "    <tr>\n",
              "      <th>0</th>\n",
              "      <td>104.08</td>\n",
              "      <td>NaN</td>\n",
              "      <td>NaN</td>\n",
              "    </tr>\n",
              "    <tr>\n",
              "      <th>1</th>\n",
              "      <td>110.26</td>\n",
              "      <td>NaN</td>\n",
              "      <td>NaN</td>\n",
              "    </tr>\n",
              "    <tr>\n",
              "      <th>2</th>\n",
              "      <td>96.80</td>\n",
              "      <td>NaN</td>\n",
              "      <td>NaN</td>\n",
              "    </tr>\n",
              "    <tr>\n",
              "      <th>3</th>\n",
              "      <td>88.74</td>\n",
              "      <td>NaN</td>\n",
              "      <td>NaN</td>\n",
              "    </tr>\n",
              "    <tr>\n",
              "      <th>4</th>\n",
              "      <td>89.79</td>\n",
              "      <td>NaN</td>\n",
              "      <td>NaN</td>\n",
              "    </tr>\n",
              "    <tr>\n",
              "      <th>...</th>\n",
              "      <td>...</td>\n",
              "      <td>...</td>\n",
              "      <td>...</td>\n",
              "    </tr>\n",
              "    <tr>\n",
              "      <th>6076</th>\n",
              "      <td>3.14</td>\n",
              "      <td>2.921667</td>\n",
              "      <td>3.0145</td>\n",
              "    </tr>\n",
              "    <tr>\n",
              "      <th>6077</th>\n",
              "      <td>2.98</td>\n",
              "      <td>2.921000</td>\n",
              "      <td>3.0109</td>\n",
              "    </tr>\n",
              "    <tr>\n",
              "      <th>6078</th>\n",
              "      <td>3.07</td>\n",
              "      <td>2.924333</td>\n",
              "      <td>3.0089</td>\n",
              "    </tr>\n",
              "    <tr>\n",
              "      <th>6079</th>\n",
              "      <td>3.01</td>\n",
              "      <td>2.928333</td>\n",
              "      <td>3.0059</td>\n",
              "    </tr>\n",
              "    <tr>\n",
              "      <th>6080</th>\n",
              "      <td>3.02</td>\n",
              "      <td>2.931667</td>\n",
              "      <td>3.0020</td>\n",
              "    </tr>\n",
              "  </tbody>\n",
              "</table>\n",
              "<p>6081 rows × 3 columns</p>\n",
              "</div>"
            ],
            "text/plain": [
              "        AAPL     SMA30  SMA100\n",
              "0     104.08       NaN     NaN\n",
              "1     110.26       NaN     NaN\n",
              "2      96.80       NaN     NaN\n",
              "3      88.74       NaN     NaN\n",
              "4      89.79       NaN     NaN\n",
              "...      ...       ...     ...\n",
              "6076    3.14  2.921667  3.0145\n",
              "6077    2.98  2.921000  3.0109\n",
              "6078    3.07  2.924333  3.0089\n",
              "6079    3.01  2.928333  3.0059\n",
              "6080    3.02  2.931667  3.0020\n",
              "\n",
              "[6081 rows x 3 columns]"
            ]
          },
          "metadata": {},
          "execution_count": 25
        }
      ]
    },
    {
      "cell_type": "code",
      "metadata": {
        "id": "XIWxA7Ul65cD"
      },
      "source": [
        "# Create a function to signal when to buy and sell the asset/stock\n",
        "def buy_sell(data):\n",
        "  sigPriceBuy = []\n",
        "  sigPriceSell = []\n",
        "  flag = -1\n",
        "\n",
        "  for i in range(len(data)):\n",
        "    if data['SMA30'][i] > data['SMA100'][i]:\n",
        "      if flag != 1:\n",
        "        sigPriceBuy.append(data['AAPL'][i])\n",
        "        sigPriceSell.append(np.nan)\n",
        "        flag = 1\n",
        "      else:\n",
        "        sigPriceBuy.append(np.nan)\n",
        "        sigPriceSell.append(np.nan)\n",
        "    elif data['SMA30'][i] < data['SMA100'][i]:\n",
        "      if flag != 0:\n",
        "        sigPriceBuy.append(np.nan)\n",
        "        sigPriceSell.append(data['AAPL'][i])\n",
        "        flag = 0\n",
        "      else:\n",
        "        sigPriceBuy.append(np.nan)\n",
        "        sigPriceSell.append(np.nan)\n",
        "    else:\n",
        "      sigPriceBuy.append(np.nan)\n",
        "      sigPriceSell.append(np.nan)\n",
        "    \n",
        "  return sigPriceBuy, sigPriceSell\n",
        "    "
      ],
      "execution_count": 26,
      "outputs": []
    },
    {
      "cell_type": "code",
      "metadata": {
        "id": "VuMxCkYc8ZLP",
        "colab": {
          "base_uri": "https://localhost:8080/",
          "height": 424
        },
        "outputId": "c21d8a00-7355-495d-a871-f4ab490bc9b5"
      },
      "source": [
        "# Store the buy and sell data into a var\n",
        "buy_sell = buy_sell(data)\n",
        "data['Buy_Signal_Price'] = buy_sell[0]\n",
        "data['Sell_Signal_Price'] = buy_sell[1]\n",
        "data"
      ],
      "execution_count": 27,
      "outputs": [
        {
          "output_type": "execute_result",
          "data": {
            "text/html": [
              "<div>\n",
              "<style scoped>\n",
              "    .dataframe tbody tr th:only-of-type {\n",
              "        vertical-align: middle;\n",
              "    }\n",
              "\n",
              "    .dataframe tbody tr th {\n",
              "        vertical-align: top;\n",
              "    }\n",
              "\n",
              "    .dataframe thead th {\n",
              "        text-align: right;\n",
              "    }\n",
              "</style>\n",
              "<table border=\"1\" class=\"dataframe\">\n",
              "  <thead>\n",
              "    <tr style=\"text-align: right;\">\n",
              "      <th></th>\n",
              "      <th>AAPL</th>\n",
              "      <th>SMA30</th>\n",
              "      <th>SMA100</th>\n",
              "      <th>Buy_Signal_Price</th>\n",
              "      <th>Sell_Signal_Price</th>\n",
              "    </tr>\n",
              "  </thead>\n",
              "  <tbody>\n",
              "    <tr>\n",
              "      <th>0</th>\n",
              "      <td>104.08</td>\n",
              "      <td>NaN</td>\n",
              "      <td>NaN</td>\n",
              "      <td>NaN</td>\n",
              "      <td>NaN</td>\n",
              "    </tr>\n",
              "    <tr>\n",
              "      <th>1</th>\n",
              "      <td>110.26</td>\n",
              "      <td>NaN</td>\n",
              "      <td>NaN</td>\n",
              "      <td>NaN</td>\n",
              "      <td>NaN</td>\n",
              "    </tr>\n",
              "    <tr>\n",
              "      <th>2</th>\n",
              "      <td>96.80</td>\n",
              "      <td>NaN</td>\n",
              "      <td>NaN</td>\n",
              "      <td>NaN</td>\n",
              "      <td>NaN</td>\n",
              "    </tr>\n",
              "    <tr>\n",
              "      <th>3</th>\n",
              "      <td>88.74</td>\n",
              "      <td>NaN</td>\n",
              "      <td>NaN</td>\n",
              "      <td>NaN</td>\n",
              "      <td>NaN</td>\n",
              "    </tr>\n",
              "    <tr>\n",
              "      <th>4</th>\n",
              "      <td>89.79</td>\n",
              "      <td>NaN</td>\n",
              "      <td>NaN</td>\n",
              "      <td>NaN</td>\n",
              "      <td>NaN</td>\n",
              "    </tr>\n",
              "    <tr>\n",
              "      <th>...</th>\n",
              "      <td>...</td>\n",
              "      <td>...</td>\n",
              "      <td>...</td>\n",
              "      <td>...</td>\n",
              "      <td>...</td>\n",
              "    </tr>\n",
              "    <tr>\n",
              "      <th>6076</th>\n",
              "      <td>3.14</td>\n",
              "      <td>2.921667</td>\n",
              "      <td>3.0145</td>\n",
              "      <td>NaN</td>\n",
              "      <td>NaN</td>\n",
              "    </tr>\n",
              "    <tr>\n",
              "      <th>6077</th>\n",
              "      <td>2.98</td>\n",
              "      <td>2.921000</td>\n",
              "      <td>3.0109</td>\n",
              "      <td>NaN</td>\n",
              "      <td>NaN</td>\n",
              "    </tr>\n",
              "    <tr>\n",
              "      <th>6078</th>\n",
              "      <td>3.07</td>\n",
              "      <td>2.924333</td>\n",
              "      <td>3.0089</td>\n",
              "      <td>NaN</td>\n",
              "      <td>NaN</td>\n",
              "    </tr>\n",
              "    <tr>\n",
              "      <th>6079</th>\n",
              "      <td>3.01</td>\n",
              "      <td>2.928333</td>\n",
              "      <td>3.0059</td>\n",
              "      <td>NaN</td>\n",
              "      <td>NaN</td>\n",
              "    </tr>\n",
              "    <tr>\n",
              "      <th>6080</th>\n",
              "      <td>3.02</td>\n",
              "      <td>2.931667</td>\n",
              "      <td>3.0020</td>\n",
              "      <td>NaN</td>\n",
              "      <td>NaN</td>\n",
              "    </tr>\n",
              "  </tbody>\n",
              "</table>\n",
              "<p>6081 rows × 5 columns</p>\n",
              "</div>"
            ],
            "text/plain": [
              "        AAPL     SMA30  SMA100  Buy_Signal_Price  Sell_Signal_Price\n",
              "0     104.08       NaN     NaN               NaN                NaN\n",
              "1     110.26       NaN     NaN               NaN                NaN\n",
              "2      96.80       NaN     NaN               NaN                NaN\n",
              "3      88.74       NaN     NaN               NaN                NaN\n",
              "4      89.79       NaN     NaN               NaN                NaN\n",
              "...      ...       ...     ...               ...                ...\n",
              "6076    3.14  2.921667  3.0145               NaN                NaN\n",
              "6077    2.98  2.921000  3.0109               NaN                NaN\n",
              "6078    3.07  2.924333  3.0089               NaN                NaN\n",
              "6079    3.01  2.928333  3.0059               NaN                NaN\n",
              "6080    3.02  2.931667  3.0020               NaN                NaN\n",
              "\n",
              "[6081 rows x 5 columns]"
            ]
          },
          "metadata": {},
          "execution_count": 27
        }
      ]
    },
    {
      "cell_type": "code",
      "metadata": {
        "id": "kBaTgtok83qh",
        "colab": {
          "base_uri": "https://localhost:8080/",
          "height": 323
        },
        "outputId": "2ae62145-4dfa-43d2-d272-5fe33ff2e4b9"
      },
      "source": [
        "# Visualize the data and the strategy to buy and shell\n",
        "plt.figure(figsize=(12.5, 4.5))\n",
        "plt.plot(data['AAPL'], label='AAPL', alpha= 0.35)\n",
        "plt.plot(data['SMA30'], label='SMA30', alpha= 0.35)\n",
        "plt.plot(data['SMA100'], label='SMA100', alpha= 0.35)\n",
        "plt.scatter(data.index, data['Buy_Signal_Price'], label='Buy', marker=\"+\", color='green')\n",
        "plt.scatter(data.index, data['Sell_Signal_Price'], label='Sell', marker='v', color='red')\n",
        "plt.title('Apple Adj Close Price Buy & sell')\n",
        "plt.xlabel('2014 to 2018')\n",
        "plt.ylabel('Adj Close Price USD($)')\n",
        "plt.legend(loc='upper left')\n",
        "plt.show()\n"
      ],
      "execution_count": 28,
      "outputs": [
        {
          "output_type": "display_data",
          "data": {
            "image/png": "[encoded data removed]",
            "text/plain": [
              "<Figure size 900x324 with 1 Axes>"
            ]
          },
          "metadata": {
            "needs_background": "light"
          }
        }
      ]
    }
  ]
}